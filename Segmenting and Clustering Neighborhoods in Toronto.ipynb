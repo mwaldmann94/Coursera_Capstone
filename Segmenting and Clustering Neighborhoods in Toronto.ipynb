{
    "cells": [
        {
            "cell_type": "code",
            "execution_count": 39,
            "metadata": {},
            "outputs": [
                {
                    "data": {
                        "text/plain": "(103, 3)"
                    },
                    "execution_count": 39,
                    "metadata": {},
                    "output_type": "execute_result"
                }
            ],
            "source": "import pandas as pd\nfrom bs4 import BeautifulSoup\nimport urllib.request\n\nurl = 'https://en.wikipedia.org/wiki/List_of_postal_codes_of_Canada:_M'\nfp = urllib.request.urlopen(url)\nmybytes = fp.read()\n\nmystr = mybytes.decode(\"utf8\")\nfp.close()\nsoup = BeautifulSoup(mystr, 'html.parser')\n\ntable = soup.find_all('table')[0] \ndf = pd.read_html(str(table))\ndf=df[0]\ndfFiltered = df[~df.Borough.str.contains(\"Not assigned\")]\ndfFiltered.reset_index(drop = True, inplace=True)\ndfFiltered.shape\n"
        }
    ],
    "metadata": {
        "kernelspec": {
            "display_name": "Python 3.6",
            "language": "python",
            "name": "python3"
        },
        "language_info": {
            "codemirror_mode": {
                "name": "ipython",
                "version": 3
            },
            "file_extension": ".py",
            "mimetype": "text/x-python",
            "name": "python",
            "nbconvert_exporter": "python",
            "pygments_lexer": "ipython3",
            "version": "3.6.9"
        }
    },
    "nbformat": 4,
    "nbformat_minor": 1
}